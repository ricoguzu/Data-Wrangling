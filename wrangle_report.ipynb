{
 "cells": [
  {
   "cell_type": "markdown",
   "metadata": {},
   "source": [
    "## Reporting: wragle_report\n",
    "* Create a **300-600 word written report** called \"wrangle_report.pdf\" or \"wrangle_report.html\" that briefly describes your wrangling efforts. This is to be framed as an internal document."
   ]
  },
  {
   "cell_type": "markdown",
   "metadata": {},
   "source": [
    "### WERateDogs Wrangling"
   ]
  },
  {
   "cell_type": "markdown",
   "metadata": {},
   "source": [
    "#### STEP 1 : Gathering data from different sources"
   ]
  },
  {
   "cell_type": "markdown",
   "metadata": {},
   "source": [
    " * Downloaded manually Twitter archive that is provied by the udacity time and uploaded it in the jupyter notebook\n",
    " * Downloaded programmatically the tweet_image predictions.tsc file using request that is hosted in the Udacity servers\n",
    " * queried a Twitter API for tweet JSON data for the retweet count and favorite count using the Tweepy library and store the JSON file in a text file which i later created a data frame for it. I had to create a Twitter Developer account so be able to have the permissions to query using the Twitter API"
   ]
  },
  {
   "cell_type": "markdown",
   "metadata": {},
   "source": [
    "#### STEP 2 : Assessing the data"
   ]
  },
  {
   "cell_type": "markdown",
   "metadata": {},
   "source": [
    "* Load the dataset in the workspace \n",
    "* used different functions like info(), describe(), value_counts(), head(), tail() to programmatically and visually identify quality and tidy issues in the 3 datasets\n",
    "* Documented both the quality and tidiness issues in the notebook using Markdown"
   ]
  },
  {
   "cell_type": "markdown",
   "metadata": {},
   "source": [
    "#### STEP 3: Cleaning the Datasets"
   ]
  },
  {
   "cell_type": "markdown",
   "metadata": {},
   "source": [
    "*  Made the copies of the 3 datasets ready for cleaning\n",
    "*  using the Define-Code-Test framework I tackled all the issues documented in the assessment part of the the analysis\n",
    "*  Merged  the dataset and created a tidy master dataset with all pieces of gathered, cleaned data "
   ]
  },
  {
   "cell_type": "markdown",
   "metadata": {},
   "source": [
    "#### STEP 4: Analysis and visualization"
   ]
  },
  {
   "cell_type": "markdown",
   "metadata": {},
   "source": [
    "* I have analyzed data using various functions includig value_counts() and describe()\n",
    "\n",
    "* I have generated 3 insights according to my analysis\n",
    "* i have created  a well labelled  bar horizontal visualization for analyis"
   ]
  },
  {
   "cell_type": "code",
   "execution_count": null,
   "metadata": {},
   "outputs": [],
   "source": []
  }
 ],
 "metadata": {
  "kernelspec": {
   "display_name": "Python 3",
   "language": "python",
   "name": "python3"
  },
  "language_info": {
   "codemirror_mode": {
    "name": "ipython",
    "version": 3
   },
   "file_extension": ".py",
   "mimetype": "text/x-python",
   "name": "python",
   "nbconvert_exporter": "python",
   "pygments_lexer": "ipython3",
   "version": "3.6.3"
  }
 },
 "nbformat": 4,
 "nbformat_minor": 2
}
